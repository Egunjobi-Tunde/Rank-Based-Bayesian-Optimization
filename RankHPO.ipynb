{
 "cells": [
  {
   "cell_type": "code",
   "execution_count": 7,
   "id": "50c61862-db48-486d-8edb-5788899fd402",
   "metadata": {},
   "outputs": [],
   "source": [
    "import numpy as np\n",
    "import pandas as pd"
   ]
  },
  {
   "cell_type": "markdown",
   "id": "d3d3fd67-75bb-4941-9343-5250a9efbf90",
   "metadata": {},
   "source": [
    "$$\n",
    "p_{i}' = \\frac{\\sum_{j} w_{ij} \\frac{p_j}{p_i + p_j}}{\\sum_{j} \\frac{w_{ji}}{p_i + p_j}}\n",
    "$$\n"
   ]
  },
  {
   "cell_type": "code",
   "execution_count": 24,
   "id": "4f148f89-e847-4ff5-91c7-cfe249f93113",
   "metadata": {},
   "outputs": [],
   "source": [
    "def PL_MLE(df, p=None, max_iter=10):\n",
    "    \"\"\"\n",
    "    A function that takes a dataframe of competition between items as input and\n",
    "    returns their estimated worth (numeric) using immediate Plackett-Luce Model.\n",
    "    \"\"\"\n",
    "    import numpy as np\n",
    "\n",
    "    # Initialize worth values to 1 if not provided\n",
    "    if p is None:\n",
    "        p = np.ones(len(df)) \n",
    "    labels = df.columns\n",
    "    \n",
    "    for iteration in range(max_iter):\n",
    "        # Perform updates\n",
    "        for i in range(len(p)):\n",
    "            numerator = 0.0\n",
    "            denominator = 0.0\n",
    "\n",
    "            for j in range(len(p)):\n",
    "                if i != j:\n",
    "                    w_ij = df.iloc[i, j]\n",
    "                    w_ji = df.iloc[j, i]\n",
    "                    numerator += w_ij * p[j] / (p[i] + p[j])\n",
    "                    denominator += w_ji / (p[i] + p[j])\n",
    "\n",
    "            # Avoid zero division\n",
    "            p[i] = numerator / denominator if denominator != 0 else 0.0\n",
    "\n",
    "        # Normalize p to keep numerical stability\n",
    "        norm = np.prod(p) ** (1 / len(p))\n",
    "        p = p / norm\n",
    "\n",
    "        result_dict = {label: float(value) for label, value in zip(labels, p)}\n",
    "        print(f\"Iteration {iteration + 1}: {result_dict}\")\n",
    "\n",
    "    return result_dict"
   ]
  },
  {
   "cell_type": "code",
   "execution_count": 25,
   "id": "509eabf5-4062-42b2-abaa-65970e7204fe",
   "metadata": {},
   "outputs": [
    {
     "data": {
      "text/html": [
       "<div>\n",
       "<style scoped>\n",
       "    .dataframe tbody tr th:only-of-type {\n",
       "        vertical-align: middle;\n",
       "    }\n",
       "\n",
       "    .dataframe tbody tr th {\n",
       "        vertical-align: top;\n",
       "    }\n",
       "\n",
       "    .dataframe thead th {\n",
       "        text-align: right;\n",
       "    }\n",
       "</style>\n",
       "<table border=\"1\" class=\"dataframe\">\n",
       "  <thead>\n",
       "    <tr style=\"text-align: right;\">\n",
       "      <th></th>\n",
       "      <th>A</th>\n",
       "      <th>B</th>\n",
       "      <th>C</th>\n",
       "    </tr>\n",
       "  </thead>\n",
       "  <tbody>\n",
       "    <tr>\n",
       "      <th>A</th>\n",
       "      <td>0</td>\n",
       "      <td>2</td>\n",
       "      <td>1</td>\n",
       "    </tr>\n",
       "    <tr>\n",
       "      <th>B</th>\n",
       "      <td>1</td>\n",
       "      <td>0</td>\n",
       "      <td>2</td>\n",
       "    </tr>\n",
       "    <tr>\n",
       "      <th>C</th>\n",
       "      <td>2</td>\n",
       "      <td>1</td>\n",
       "      <td>0</td>\n",
       "    </tr>\n",
       "  </tbody>\n",
       "</table>\n",
       "</div>"
      ],
      "text/plain": [
       "   A  B  C\n",
       "A  0  2  1\n",
       "B  1  0  2\n",
       "C  2  1  0"
      ]
     },
     "execution_count": 25,
     "metadata": {},
     "output_type": "execute_result"
    }
   ],
   "source": [
    "data = {\n",
    "    'A': [0, 1, 2],\n",
    "    'B': [2, 0, 1],\n",
    "    'C': [1, 2, 0]\n",
    "}\n",
    "df = pd.DataFrame(data, index=['A', 'B', 'C'])\n",
    "df"
   ]
  },
  {
   "cell_type": "code",
   "execution_count": 26,
   "id": "7276e773-ece9-451a-9b15-68637778b6a3",
   "metadata": {},
   "outputs": [
    {
     "name": "stdout",
     "output_type": "stream",
     "text": [
      "Iteration 1: {'A': 1.0, 'B': 1.0, 'C': 1.0}\n",
      "Iteration 2: {'A': 1.0, 'B': 1.0, 'C': 1.0}\n",
      "Iteration 3: {'A': 1.0, 'B': 1.0, 'C': 1.0}\n",
      "Iteration 4: {'A': 1.0, 'B': 1.0, 'C': 1.0}\n",
      "Iteration 5: {'A': 1.0, 'B': 1.0, 'C': 1.0}\n",
      "Iteration 6: {'A': 1.0, 'B': 1.0, 'C': 1.0}\n",
      "Iteration 7: {'A': 1.0, 'B': 1.0, 'C': 1.0}\n",
      "Iteration 8: {'A': 1.0, 'B': 1.0, 'C': 1.0}\n",
      "Iteration 9: {'A': 1.0, 'B': 1.0, 'C': 1.0}\n",
      "Iteration 10: {'A': 1.0, 'B': 1.0, 'C': 1.0}\n"
     ]
    },
    {
     "data": {
      "text/plain": [
       "{'A': 1.0, 'B': 1.0, 'C': 1.0}"
      ]
     },
     "execution_count": 26,
     "metadata": {},
     "output_type": "execute_result"
    }
   ],
   "source": [
    "PL_MLE(df)"
   ]
  },
  {
   "cell_type": "code",
   "execution_count": 30,
   "id": "a395615f-27dc-453f-aac4-97a8bca55b12",
   "metadata": {},
   "outputs": [
    {
     "data": {
      "text/html": [
       "<div>\n",
       "<style scoped>\n",
       "    .dataframe tbody tr th:only-of-type {\n",
       "        vertical-align: middle;\n",
       "    }\n",
       "\n",
       "    .dataframe tbody tr th {\n",
       "        vertical-align: top;\n",
       "    }\n",
       "\n",
       "    .dataframe thead th {\n",
       "        text-align: right;\n",
       "    }\n",
       "</style>\n",
       "<table border=\"1\" class=\"dataframe\">\n",
       "  <thead>\n",
       "    <tr style=\"text-align: right;\">\n",
       "      <th></th>\n",
       "      <th>A</th>\n",
       "      <th>B</th>\n",
       "      <th>C</th>\n",
       "      <th>D</th>\n",
       "      <th>E</th>\n",
       "    </tr>\n",
       "  </thead>\n",
       "  <tbody>\n",
       "    <tr>\n",
       "      <th>A</th>\n",
       "      <td>0</td>\n",
       "      <td>2</td>\n",
       "      <td>1</td>\n",
       "      <td>1</td>\n",
       "      <td>1</td>\n",
       "    </tr>\n",
       "    <tr>\n",
       "      <th>B</th>\n",
       "      <td>1</td>\n",
       "      <td>0</td>\n",
       "      <td>1</td>\n",
       "      <td>0</td>\n",
       "      <td>0</td>\n",
       "    </tr>\n",
       "    <tr>\n",
       "      <th>C</th>\n",
       "      <td>2</td>\n",
       "      <td>2</td>\n",
       "      <td>0</td>\n",
       "      <td>1</td>\n",
       "      <td>1</td>\n",
       "    </tr>\n",
       "    <tr>\n",
       "      <th>D</th>\n",
       "      <td>2</td>\n",
       "      <td>3</td>\n",
       "      <td>2</td>\n",
       "      <td>0</td>\n",
       "      <td>0</td>\n",
       "    </tr>\n",
       "    <tr>\n",
       "      <th>E</th>\n",
       "      <td>2</td>\n",
       "      <td>3</td>\n",
       "      <td>2</td>\n",
       "      <td>3</td>\n",
       "      <td>0</td>\n",
       "    </tr>\n",
       "  </tbody>\n",
       "</table>\n",
       "</div>"
      ],
      "text/plain": [
       "   A  B  C  D  E\n",
       "A  0  2  1  1  1\n",
       "B  1  0  1  0  0\n",
       "C  2  2  0  1  1\n",
       "D  2  3  2  0  0\n",
       "E  2  3  2  3  0"
      ]
     },
     "execution_count": 30,
     "metadata": {},
     "output_type": "execute_result"
    }
   ],
   "source": [
    "data = { \"A\" : [0, 1, 2,2,2], \"B\": [2, 0, 2,3,3], \n",
    "    \"C\": [1,1,0, 2, 2],  \"D\" : [1, 0, 1,0,3], \"E\": [1, 0, 1,0,0]\n",
    "}\n",
    "df = pd.DataFrame(data, index=['A', 'B', 'C',\"D\",'E'])\n",
    "df"
   ]
  },
  {
   "cell_type": "code",
   "execution_count": 31,
   "id": "89d0cf6c-ac6a-465a-9e3e-9108f1aaf792",
   "metadata": {},
   "outputs": [
    {
     "name": "stdout",
     "output_type": "stream",
     "text": [
      "Iteration 1: {'A': 1.0215406165266616, 'B': 0.2537375079759772, 'C': 0.8893892032147656, 'D': 1.0870931312060157, 'E': 3.990259003624429}\n",
      "Iteration 2: {'A': 0.7442295641369935, 'B': 0.24018177644237548, 'C': 0.9688967953105313, 'D': 1.4274017244287847, 'E': 4.045100281934719}\n",
      "Iteration 3: {'A': 0.7249613307432117, 'B': 0.24924076458809055, 'C': 1.0081623227202936, 'D': 1.3680840212726442, 'E': 4.012572105794215}\n",
      "Iteration 4: {'A': 0.7281713458837457, 'B': 0.24947200320578256, 'C': 0.999113583941843, 'D': 1.3735575939156768, 'E': 4.011278932264707}\n",
      "Iteration 5: {'A': 0.7283869200602663, 'B': 0.24923762344939152, 'C': 1.000076303378184, 'D': 1.3729459483116022, 'E': 4.011785307245589}\n",
      "Iteration 6: {'A': 0.7283097841194621, 'B': 0.2492711910896233, 'C': 0.9999907464486988, 'D': 1.3730403338326704, 'E': 4.011737337789709}\n",
      "Iteration 7: {'A': 0.7283182120255759, 'B': 0.24926817389946995, 'C': 1.0000015731323735, 'D': 1.3730254092633254, 'E': 4.011739646042707}\n",
      "Iteration 8: {'A': 0.7283176002788958, 'B': 0.24926846794439167, 'C': 0.9999997521317122, 'D': 1.3730275131232093, 'E': 4.011739441575195}\n",
      "Iteration 9: {'A': 0.728317665068386, 'B': 0.2492684223629911, 'C': 1.0000000338041544, 'D': 1.373027236030422, 'E': 4.011739497908178}\n",
      "Iteration 10: {'A': 0.7283176528861063, 'B': 0.24926843001210564, 'C': 0.9999999956268865, 'D': 1.3730272729292998, 'E': 4.011739487251034}\n"
     ]
    },
    {
     "data": {
      "text/plain": [
       "{'A': 0.7283176528861063,\n",
       " 'B': 0.24926843001210564,\n",
       " 'C': 0.9999999956268865,\n",
       " 'D': 1.3730272729292998,\n",
       " 'E': 4.011739487251034}"
      ]
     },
     "execution_count": 31,
     "metadata": {},
     "output_type": "execute_result"
    }
   ],
   "source": [
    "PL_MLE(df)"
   ]
  },
  {
   "cell_type": "markdown",
   "id": "cfe80bbd-8194-433c-83f6-ad19e2136283",
   "metadata": {},
   "source": [
    "## Using Pytorch and Gradient Ascent"
   ]
  },
  {
   "cell_type": "code",
   "execution_count": 40,
   "id": "28699f78-a829-4d37-b078-e45b6dd7a300",
   "metadata": {},
   "outputs": [
    {
     "name": "stdout",
     "output_type": "stream",
     "text": [
      "tensor([2.3694e-38, 3.6013e-43, 0.0000e+00, 0.0000e+00])\n",
      "tensor([[0.6317, 0.7130, 0.8553],\n",
      "        [0.3997, 0.3693, 0.3877]])\n",
      "torch.int32\n"
     ]
    }
   ],
   "source": [
    "import torch\n",
    "\n",
    "#empty tensor\n",
    "x = torch.empty(4)\n",
    "print(x)\n",
    "y = torch.rand([2,3], )\n",
    "print(y)\n",
    "z =  torch.ones([1,2], dtype = torch.int)\n",
    "print(z.dtype)"
   ]
  },
  {
   "cell_type": "code",
   "execution_count": 41,
   "id": "3dead262-0612-4624-b936-3d10c3cd64ce",
   "metadata": {},
   "outputs": [
    {
     "data": {
      "text/plain": [
       "torch.Size([4])"
      ]
     },
     "execution_count": 41,
     "metadata": {},
     "output_type": "execute_result"
    }
   ],
   "source": [
    "x.size()"
   ]
  },
  {
   "cell_type": "code",
   "execution_count": 42,
   "id": "d0889458-1575-4ae0-b1aa-50362b665f7d",
   "metadata": {},
   "outputs": [
    {
     "data": {
      "text/plain": [
       "tensor([2, 3, 4])"
      ]
     },
     "execution_count": 42,
     "metadata": {},
     "output_type": "execute_result"
    }
   ],
   "source": [
    "torch.tensor([2,3,4])\n"
   ]
  },
  {
   "cell_type": "code",
   "execution_count": 44,
   "id": "85256aa9-2955-4f02-98e4-d1b3f30fb12d",
   "metadata": {},
   "outputs": [
    {
     "data": {
      "text/plain": [
       "tensor([[1.2635, 1.4260, 1.7106],\n",
       "        [0.7994, 0.7387, 0.7754]])"
      ]
     },
     "execution_count": 44,
     "metadata": {},
     "output_type": "execute_result"
    }
   ],
   "source": [
    "y+y"
   ]
  },
  {
   "cell_type": "code",
   "execution_count": 47,
   "id": "e2b89c19-3a8f-417a-bb38-a26e45548722",
   "metadata": {},
   "outputs": [
    {
     "data": {
      "text/plain": [
       "tensor([[1.2635, 1.4260, 1.7106],\n",
       "        [0.7994, 0.7387, 0.7754]])"
      ]
     },
     "execution_count": 47,
     "metadata": {},
     "output_type": "execute_result"
    }
   ],
   "source": [
    "torch.add(y,y)"
   ]
  },
  {
   "cell_type": "code",
   "execution_count": 50,
   "id": "9e4c8e3c-a846-426f-915c-e565da469fea",
   "metadata": {},
   "outputs": [
    {
     "data": {
      "text/plain": [
       "tensor([[1.2635, 1.4260, 1.7106],\n",
       "        [0.7994, 0.7387, 0.7754]])"
      ]
     },
     "execution_count": 50,
     "metadata": {},
     "output_type": "execute_result"
    }
   ],
   "source": [
    "y.add_(y)"
   ]
  },
  {
   "cell_type": "code",
   "execution_count": 52,
   "id": "14c1e12a-1ec7-41c8-a9dc-129b907bf78f",
   "metadata": {},
   "outputs": [
    {
     "data": {
      "text/plain": [
       "tensor([[0.1800, 0.4595, 0.0341, 0.2344, 0.2143, 0.8378, 0.2954, 0.2335],\n",
       "        [0.9140, 0.7630, 0.0517, 0.0631, 0.3332, 0.7562, 0.1266, 0.2767]])"
      ]
     },
     "execution_count": 52,
     "metadata": {},
     "output_type": "execute_result"
    }
   ],
   "source": [
    "x = torch.rand(4,4)\n",
    "#resizing\n",
    "b=  x.view(-1, 8)\n",
    "c =  x.view(16)\n",
    "b"
   ]
  },
  {
   "cell_type": "code",
   "execution_count": 55,
   "id": "8fc91006-9300-438c-a014-815544e6a97e",
   "metadata": {},
   "outputs": [
    {
     "name": "stdout",
     "output_type": "stream",
     "text": [
      "[1. 1. 1. 1. 1.]\n"
     ]
    },
    {
     "data": {
      "text/plain": [
       "numpy.ndarray"
      ]
     },
     "execution_count": 55,
     "metadata": {},
     "output_type": "execute_result"
    }
   ],
   "source": [
    "n = torch.ones(5)\n",
    "m = n.numpy()\n",
    "print(m)\n",
    "type(m)"
   ]
  },
  {
   "cell_type": "code",
   "execution_count": 58,
   "id": "7c3848ca-28b2-478f-a6e8-e59bef16188a",
   "metadata": {},
   "outputs": [
    {
     "data": {
      "text/plain": [
       "tensor([2., 2., 2., 2., 2.])"
      ]
     },
     "execution_count": 58,
     "metadata": {},
     "output_type": "execute_result"
    }
   ],
   "source": [
    "n.add_(1)   #they are both changing because of memory location"
   ]
  },
  {
   "cell_type": "code",
   "execution_count": 59,
   "id": "5fb29540-5a79-43ce-a3e0-4545bb706276",
   "metadata": {},
   "outputs": [
    {
     "data": {
      "text/plain": [
       "array([2., 2., 2., 2., 2.], dtype=float32)"
      ]
     },
     "execution_count": 59,
     "metadata": {},
     "output_type": "execute_result"
    }
   ],
   "source": [
    "m"
   ]
  },
  {
   "cell_type": "code",
   "execution_count": 61,
   "id": "fbf8043f-5be4-4fb2-91c6-d5509738202f",
   "metadata": {},
   "outputs": [
    {
     "data": {
      "text/plain": [
       "tensor([1., 1., 1., 1., 1.], dtype=torch.float64)"
      ]
     },
     "execution_count": 61,
     "metadata": {},
     "output_type": "execute_result"
    }
   ],
   "source": [
    "nump = np.ones(5)\n",
    "toch = torch.from_numpy(nump)\n",
    "toch"
   ]
  },
  {
   "cell_type": "code",
   "execution_count": 63,
   "id": "e3b92cf9-ed0f-4f47-99fd-fed8c7501902",
   "metadata": {},
   "outputs": [
    {
     "data": {
      "text/plain": [
       "tensor([1., 1., 1., 1., 1.], requires_grad=True)"
      ]
     },
     "execution_count": 63,
     "metadata": {},
     "output_type": "execute_result"
    }
   ],
   "source": [
    "x = torch.ones(5, requires_grad = True)\n",
    "x"
   ]
  },
  {
   "cell_type": "code",
   "execution_count": 85,
   "id": "97a0233f-0692-41ae-99eb-698e8dce0178",
   "metadata": {},
   "outputs": [
    {
     "data": {
      "text/plain": [
       "tensor([0.4997, 1.4350, 1.4263], requires_grad=True)"
      ]
     },
     "execution_count": 85,
     "metadata": {},
     "output_type": "execute_result"
    }
   ],
   "source": [
    "## Autograd\n",
    "\n",
    "x = torch.randn(3, requires_grad = True)\n",
    "x"
   ]
  },
  {
   "cell_type": "code",
   "execution_count": 86,
   "id": "6e7790bc-cd7b-4869-a08c-88372a1b460d",
   "metadata": {},
   "outputs": [
    {
     "data": {
      "text/plain": [
       "tensor([2.4997, 3.4350, 3.4263], grad_fn=<AddBackward0>)"
      ]
     },
     "execution_count": 86,
     "metadata": {},
     "output_type": "execute_result"
    }
   ],
   "source": [
    "y = x+2\n",
    "y"
   ]
  },
  {
   "cell_type": "code",
   "execution_count": 91,
   "id": "7c2d4069-1726-4641-a24f-f678275f7b07",
   "metadata": {},
   "outputs": [
    {
     "data": {
      "text/plain": [
       "tensor([12.4973, 23.5984, 23.4797], grad_fn=<MulBackward0>)"
      ]
     },
     "execution_count": 91,
     "metadata": {},
     "output_type": "execute_result"
    }
   ],
   "source": [
    "z = y*y*2\n",
    "#z = z.mean()\n",
    "z"
   ]
  },
  {
   "cell_type": "code",
   "execution_count": 93,
   "id": "3bc84573-9123-4509-9ff0-c3d67e8be978",
   "metadata": {},
   "outputs": [
    {
     "name": "stdout",
     "output_type": "stream",
     "text": [
      "tensor([3.3330, 4.5800, 4.5685])\n"
     ]
    }
   ],
   "source": [
    "z.backward()  #dz/dx\n",
    "print(x.grad)"
   ]
  },
  {
   "cell_type": "code",
   "execution_count": 95,
   "id": "c96ad1e9-a1d0-46a2-9aa6-e0c49803897f",
   "metadata": {},
   "outputs": [
    {
     "data": {
      "text/plain": [
       "tensor([0.4997, 1.4350, 1.4263])"
      ]
     },
     "execution_count": 95,
     "metadata": {},
     "output_type": "execute_result"
    }
   ],
   "source": [
    "#how to remove the require gradient\n",
    "#x.requires_grad_(False)\n",
    "#x.detach()\n",
    "#with_torch.no_grad():\n",
    "x.requires_grad_(False)\n",
    "x"
   ]
  },
  {
   "cell_type": "code",
   "execution_count": 97,
   "id": "793c2464-6cfb-4db9-ae89-8c3b477fef15",
   "metadata": {},
   "outputs": [
    {
     "data": {
      "text/plain": [
       "tensor([2.4997, 3.4350, 3.4263])"
      ]
     },
     "execution_count": 97,
     "metadata": {},
     "output_type": "execute_result"
    }
   ],
   "source": [
    "y = x.detach()\n",
    "y =  x+2\n",
    "y"
   ]
  },
  {
   "cell_type": "code",
   "execution_count": 108,
   "id": "84afa67e-356c-44d6-80b9-64e301fc9ab1",
   "metadata": {},
   "outputs": [
    {
     "name": "stdout",
     "output_type": "stream",
     "text": [
      "tensor([3., 3., 3., 3.])\n",
      "tensor([3., 3., 3., 3.])\n",
      "tensor([3., 3., 3., 3.])\n"
     ]
    }
   ],
   "source": [
    "weights = torch.ones(4, requires_grad = True)\n",
    "for epoch in range(3):\n",
    "    model_output =  (weights*3).sum()\n",
    "    model_output.backward()\n",
    "    print(weights.grad) \\\n",
    "    #before next iteration, you must empty the grad\n",
    "    weights.grad.zero_() #without this it will be accumulatiing"
   ]
  },
  {
   "cell_type": "code",
   "execution_count": 111,
   "id": "7f6cc6c7-bd68-407d-958c-f7fcbec73ade",
   "metadata": {},
   "outputs": [],
   "source": [
    "#optimizer = torch.optim.SGD(weights, lr = 0.01)\n",
    "#optimizer.step()\n",
    "#optimizer.zero_grad()"
   ]
  },
  {
   "cell_type": "code",
   "execution_count": 115,
   "id": "225d068a-0f69-4e00-9b83-dccaae43f592",
   "metadata": {},
   "outputs": [
    {
     "data": {
      "text/plain": [
       "tensor(-2.)"
      ]
     },
     "execution_count": 115,
     "metadata": {},
     "output_type": "execute_result"
    }
   ],
   "source": [
    "### Backpropagation\n",
    "\n",
    "x = torch.tensor(1.0)\n",
    "y = torch.tensor(2.0)\n",
    "\n",
    "w = torch.tensor(1.0, requires_grad = True)\n",
    "#forward pass\n",
    "\n",
    "y_hat =  w*x\n",
    "loss = (y_hat -y)**2\n",
    "loss\n",
    "#backward pass\n",
    "loss.backward()\n",
    "w.grad\n",
    "#update weight\n",
    "###next forward and backward for some iteration"
   ]
  },
  {
   "cell_type": "code",
   "execution_count": 118,
   "id": "171ba25f-c11d-4f0b-8ebe-a2640c24f4d5",
   "metadata": {},
   "outputs": [
    {
     "data": {
      "text/html": [
       "<div>\n",
       "<style scoped>\n",
       "    .dataframe tbody tr th:only-of-type {\n",
       "        vertical-align: middle;\n",
       "    }\n",
       "\n",
       "    .dataframe tbody tr th {\n",
       "        vertical-align: top;\n",
       "    }\n",
       "\n",
       "    .dataframe thead th {\n",
       "        text-align: right;\n",
       "    }\n",
       "</style>\n",
       "<table border=\"1\" class=\"dataframe\">\n",
       "  <thead>\n",
       "    <tr style=\"text-align: right;\">\n",
       "      <th></th>\n",
       "      <th>A</th>\n",
       "      <th>B</th>\n",
       "      <th>C</th>\n",
       "      <th>D</th>\n",
       "      <th>E</th>\n",
       "    </tr>\n",
       "  </thead>\n",
       "  <tbody>\n",
       "    <tr>\n",
       "      <th>A</th>\n",
       "      <td>0</td>\n",
       "      <td>2</td>\n",
       "      <td>1</td>\n",
       "      <td>1</td>\n",
       "      <td>1</td>\n",
       "    </tr>\n",
       "    <tr>\n",
       "      <th>B</th>\n",
       "      <td>1</td>\n",
       "      <td>0</td>\n",
       "      <td>1</td>\n",
       "      <td>0</td>\n",
       "      <td>0</td>\n",
       "    </tr>\n",
       "    <tr>\n",
       "      <th>C</th>\n",
       "      <td>2</td>\n",
       "      <td>2</td>\n",
       "      <td>0</td>\n",
       "      <td>1</td>\n",
       "      <td>1</td>\n",
       "    </tr>\n",
       "    <tr>\n",
       "      <th>D</th>\n",
       "      <td>2</td>\n",
       "      <td>3</td>\n",
       "      <td>2</td>\n",
       "      <td>0</td>\n",
       "      <td>0</td>\n",
       "    </tr>\n",
       "    <tr>\n",
       "      <th>E</th>\n",
       "      <td>2</td>\n",
       "      <td>3</td>\n",
       "      <td>2</td>\n",
       "      <td>3</td>\n",
       "      <td>0</td>\n",
       "    </tr>\n",
       "  </tbody>\n",
       "</table>\n",
       "</div>"
      ],
      "text/plain": [
       "   A  B  C  D  E\n",
       "A  0  2  1  1  1\n",
       "B  1  0  1  0  0\n",
       "C  2  2  0  1  1\n",
       "D  2  3  2  0  0\n",
       "E  2  3  2  3  0"
      ]
     },
     "execution_count": 118,
     "metadata": {},
     "output_type": "execute_result"
    }
   ],
   "source": [
    "df"
   ]
  },
  {
   "cell_type": "code",
   "execution_count": 119,
   "id": "dfd59f7f-f799-4f10-aa3c-d1d5d2aa68b0",
   "metadata": {},
   "outputs": [
    {
     "name": "stdout",
     "output_type": "stream",
     "text": [
      "Iteration 1: {'A': 1.0215406165266616, 'B': 0.2537375079759772, 'C': 0.8893892032147656, 'D': 1.0870931312060157, 'E': 3.990259003624429}\n",
      "Iteration 2: {'A': 0.7442295641369935, 'B': 0.24018177644237548, 'C': 0.9688967953105313, 'D': 1.4274017244287847, 'E': 4.045100281934719}\n",
      "Iteration 3: {'A': 0.7249613307432117, 'B': 0.24924076458809055, 'C': 1.0081623227202936, 'D': 1.3680840212726442, 'E': 4.012572105794215}\n",
      "Iteration 4: {'A': 0.7281713458837457, 'B': 0.24947200320578256, 'C': 0.999113583941843, 'D': 1.3735575939156768, 'E': 4.011278932264707}\n",
      "Iteration 5: {'A': 0.7283869200602663, 'B': 0.24923762344939152, 'C': 1.000076303378184, 'D': 1.3729459483116022, 'E': 4.011785307245589}\n",
      "Iteration 6: {'A': 0.7283097841194621, 'B': 0.2492711910896233, 'C': 0.9999907464486988, 'D': 1.3730403338326704, 'E': 4.011737337789709}\n",
      "Iteration 7: {'A': 0.7283182120255759, 'B': 0.24926817389946995, 'C': 1.0000015731323735, 'D': 1.3730254092633254, 'E': 4.011739646042707}\n",
      "Iteration 8: {'A': 0.7283176002788958, 'B': 0.24926846794439167, 'C': 0.9999997521317122, 'D': 1.3730275131232093, 'E': 4.011739441575195}\n",
      "Iteration 9: {'A': 0.728317665068386, 'B': 0.2492684223629911, 'C': 1.0000000338041544, 'D': 1.373027236030422, 'E': 4.011739497908178}\n",
      "Iteration 10: {'A': 0.7283176528861063, 'B': 0.24926843001210564, 'C': 0.9999999956268865, 'D': 1.3730272729292998, 'E': 4.011739487251034}\n"
     ]
    },
    {
     "data": {
      "text/plain": [
       "{'A': 0.7283176528861063,\n",
       " 'B': 0.24926843001210564,\n",
       " 'C': 0.9999999956268865,\n",
       " 'D': 1.3730272729292998,\n",
       " 'E': 4.011739487251034}"
      ]
     },
     "execution_count": 119,
     "metadata": {},
     "output_type": "execute_result"
    }
   ],
   "source": [
    "PL_MLE(df)"
   ]
  },
  {
   "cell_type": "code",
   "execution_count": 121,
   "id": "0f196e6c-c148-43f2-9322-97e24902c8e9",
   "metadata": {},
   "outputs": [],
   "source": []
  },
  {
   "cell_type": "code",
   "execution_count": 132,
   "id": "e03e8365-62bd-4208-867a-582c6a5d974d",
   "metadata": {},
   "outputs": [
    {
     "name": "stdout",
     "output_type": "stream",
     "text": [
      "Iteration 1: p = [0.93182908 0.93182908 1.00196675 1.07210442 1.07210442]\n",
      "Iteration 10: p = [0.753838   0.41186676 0.99111579 1.66856514 1.94759058]\n",
      "Iteration 20: p = [0.80485716 0.19565557 0.99305176 1.94051966 3.29533106]\n",
      "Iteration 30: p = [0.70754567 0.30722205 1.02985761 1.31475204 3.39759888]\n",
      "Iteration 40: p = [0.82072326 0.23458286 1.00937849 1.3137588  3.91685327]\n",
      "Iteration 50: p = [0.66336754 0.2529158  0.97895317 1.44573008 4.21134375]\n",
      "Iteration 60: p = [0.76083241 0.24452414 1.00658226 1.32158181 4.04060069]\n",
      "Iteration 70: p = [0.71283668 0.25300537 1.00275751 1.37707522 4.01537989]\n",
      "Iteration 80: p = [0.73240252 0.24629335 1.00165981 1.3847457  3.99675214]\n",
      "Iteration 90: p = [0.73054349 0.25169045 0.9996319  1.36644506 3.98157507]\n",
      "Iteration 100: p = [0.72604468 0.2486387  0.9985889  1.38042063 4.01855352]\n"
     ]
    },
    {
     "data": {
      "text/plain": [
       "{'A': 0.7260446816350722,\n",
       " 'B': 0.24863869780215955,\n",
       " 'C': 0.9985888951779122,\n",
       " 'D': 1.3804206281045812,\n",
       " 'E': 4.018553515504488}"
      ]
     },
     "execution_count": 132,
     "metadata": {},
     "output_type": "execute_result"
    }
   ],
   "source": [
    "plackett_luce_torch(df, lr=0.07, max_iter=100)"
   ]
  },
  {
   "cell_type": "code",
   "execution_count": 133,
   "id": "f4672534-a1cc-4684-aa5f-156ba73773b7",
   "metadata": {},
   "outputs": [
    {
     "name": "stdout",
     "output_type": "stream",
     "text": [
      "Iteration 1: p = [0.98675472 1.00668916 1.00668916]\n",
      "Iteration 10: p = [0.87515644 1.06894942 1.06894942]\n",
      "Iteration 20: p = [0.7739861  1.13666744 1.13666744]\n",
      "Iteration 30: p = [0.70886755 1.18772925 1.18772925]\n",
      "Iteration 40: p = [0.68624774 1.20714527 1.20714527]\n",
      "Iteration 50: p = [0.69401301 1.20037293 1.20037293]\n",
      "Iteration 60: p = [0.70917939 1.18746808 1.18746808]\n",
      "Iteration 70: p = [0.71652406 1.18136639 1.18136639]\n",
      "Iteration 80: p = [0.71513978 1.18250921 1.18250921]\n",
      "Iteration 90: p = [0.71146788 1.18555676 1.18555676]\n",
      "Iteration 100: p = [0.71005742 1.18673367 1.18673367]\n",
      "Final estimates: {'A': 0.710057418207784, 'B': 1.186733673163536, 'C': 1.186733673163536}\n"
     ]
    }
   ],
   "source": [
    "data = {\n",
    "    'A': [0, 3, 2],\n",
    "    'B': [1, 0, 4],\n",
    "    'C': [2, 3, 0]\n",
    "}\n",
    "df = pd.DataFrame(data, index=['A', 'B', 'C'])\n",
    "\n",
    "result = plackett_luce_torch(df)\n",
    "print(\"Final estimates:\", result)\n"
   ]
  },
  {
   "cell_type": "code",
   "execution_count": 134,
   "id": "ff54f123-2194-4de9-b2f8-77b2c0515141",
   "metadata": {},
   "outputs": [
    {
     "name": "stdout",
     "output_type": "stream",
     "text": [
      "Iteration 1: {'A': 0.7113786608980126, 'B': 1.1856311014966876, 'C': 1.1856311014966876}\n",
      "Iteration 2: {'A': 0.7113786608980125, 'B': 1.1856311014966876, 'C': 1.1856311014966876}\n",
      "Iteration 3: {'A': 0.7113786608980127, 'B': 1.1856311014966876, 'C': 1.1856311014966876}\n",
      "Iteration 4: {'A': 0.7113786608980125, 'B': 1.1856311014966876, 'C': 1.1856311014966876}\n",
      "Iteration 5: {'A': 0.7113786608980127, 'B': 1.1856311014966876, 'C': 1.1856311014966876}\n",
      "Iteration 6: {'A': 0.7113786608980125, 'B': 1.1856311014966876, 'C': 1.1856311014966876}\n",
      "Iteration 7: {'A': 0.7113786608980127, 'B': 1.1856311014966876, 'C': 1.1856311014966876}\n",
      "Iteration 8: {'A': 0.7113786608980125, 'B': 1.1856311014966876, 'C': 1.1856311014966876}\n",
      "Iteration 9: {'A': 0.7113786608980127, 'B': 1.1856311014966876, 'C': 1.1856311014966876}\n",
      "Iteration 10: {'A': 0.7113786608980125, 'B': 1.1856311014966876, 'C': 1.1856311014966876}\n"
     ]
    },
    {
     "data": {
      "text/plain": [
       "{'A': 0.7113786608980125, 'B': 1.1856311014966876, 'C': 1.1856311014966876}"
      ]
     },
     "execution_count": 134,
     "metadata": {},
     "output_type": "execute_result"
    }
   ],
   "source": [
    "PL_MLE(df)"
   ]
  },
  {
   "cell_type": "code",
   "execution_count": null,
   "id": "5a7a37bf-6872-4463-a5a8-543658d63da3",
   "metadata": {},
   "outputs": [],
   "source": []
  }
 ],
 "metadata": {
  "kernelspec": {
   "display_name": "Python 3 (ipykernel)",
   "language": "python",
   "name": "python3"
  },
  "language_info": {
   "codemirror_mode": {
    "name": "ipython",
    "version": 3
   },
   "file_extension": ".py",
   "mimetype": "text/x-python",
   "name": "python",
   "nbconvert_exporter": "python",
   "pygments_lexer": "ipython3",
   "version": "3.12.9"
  }
 },
 "nbformat": 4,
 "nbformat_minor": 5
}
