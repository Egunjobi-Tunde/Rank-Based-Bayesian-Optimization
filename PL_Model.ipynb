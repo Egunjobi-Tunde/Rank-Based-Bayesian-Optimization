{
 "cells": [
  {
   "cell_type": "markdown",
   "id": "a3c1543c-09fd-4520-a33a-a8c55bdc0b7a",
   "metadata": {},
   "source": [
    "## Plackett Luce Model Inference For Estimating Worth Value from Rank \n",
    "\n",
    "Suppose we know the outcomes of a set of pairwise competitions between a certain group of individuals, and let $w_{ij}$ be the number of times individual $i$ beats individual $j$.\n",
    "\n",
    "Then the **likelihood** of this set of outcomes under the **Bradley–Terry model** is:\n",
    "\n",
    "$$\n",
    "L(\\mathbf{p}) = \\prod_{i,j} \\left[ \\Pr(i > j) \\right]^{w_{ij}}\n",
    "$$\n",
    "\n",
    "And the probability of $i$ beating $j$ is:\n",
    "\n",
    "$$\n",
    "\\Pr(i > j) = \\frac{p_i}{p_i + p_j}\n",
    "$$\n",
    "\n",
    "Substituting this into the likelihood gives:\n",
    "\n",
    "$$\n",
    "L(\\mathbf{p}) = \\prod_{i,j} \\left( \\frac{p_i}{p_i + p_j} \\right)^{w_{ij}}\n",
    "$$\n",
    "\n",
    "Taking the natural logarithm of the likelihood (to get the **log-likelihood**):\n",
    "\n",
    "$$\n",
    "\\ell(\\mathbf{p}) = \\ln L(\\mathbf{p}) = \\sum_{i=1}^{n} \\sum_{j=1}^{n} w_{ij} \\ln \\left( \\frac{p_i}{p_i + p_j} \\right)\n",
    "$$\n",
    "\n",
    "Which simplifies to:\n",
    "\n",
    "$$\n",
    "\\ell(\\mathbf{p}) = \\sum_{i=1}^{n} \\sum_{j=1}^{n} \\left[ w_{ij} \\ln(p_i) - w_{ij} \\ln(p_i + p_j) \\right]  \\quad \\quad  (1)\n",
    "$$\n",
    "\n",
    "Differentiating and setting to zero, we obtained p:\n",
    "\n",
    "$$\n",
    "p_{i}' = \\frac{\\sum_{j} w_{ij} \\frac{p_j}{p_i + p_j}}{\\sum_{j} \\frac{w_{ji}}{p_i + p_j}}  \\quad  \\quad (2)\n",
    "$$\n",
    "\n",
    "\n",
    "This is the log-likelihood we can maximize to estimate the worth parameters $\\mathbf{p} = [p_1, p_2, \\dots, p_n]$."
   ]
  },
  {
   "cell_type": "markdown",
   "id": "c39ececa-ee3b-4004-baf3-fc31fa8a7902",
   "metadata": {},
   "source": [
    "### Goal\n",
    "\n",
    "To obtain the latent value (worth) of items/models from their Rank information\n",
    "\n"
   ]
  },
  {
   "cell_type": "markdown",
   "id": "6403fcc1-b074-490a-a8da-4945fa5620da",
   "metadata": {},
   "source": [
    "### Example\n",
    "\n",
    "#### Original Table: Rank performance of model based on Metrics\n",
    "\n",
    "| Model | Metric1 | Metric2 | Metric3 |\n",
    "|:-------|:--------|:--------|:--------|\n",
    "| A     | 1      | 3      | 4      |\n",
    "| B     | 2      | 2      | 1      |\n",
    "| C     | 3      | 1      | 5      |\n",
    "| D     | 4      | 4      | 2      |\n",
    "| E     | 5      | 5      | 3      |\n",
    "\n",
    "#### Transformed Table: Competition. A was better than B once and B was better than A twice, and  so on.\n",
    "\n",
    "|   | **A** | **B** | **C** | **D** | **E** |\n",
    "|---|-------|-------|-------|-------|-------|\n",
    "| **A** | 0     | 1     | 2     | 2     | 2     |\n",
    "| **B** | 2     | 0     | 2     | 3     | 3     |\n",
    "| **C** | 1     | 1     | 0     | 2     | 2     |\n",
    "| **D** | 1     | 0     | 1     | 0     | 3     |\n",
    "| **E** | 1     | 0     | 1     | 0     | 0     |\n"
   ]
  },
  {
   "cell_type": "code",
   "execution_count": 1,
   "id": "2ed9cc0f-149c-475f-b328-cd24be319d17",
   "metadata": {},
   "outputs": [
    {
     "data": {
      "text/html": [
       "<div>\n",
       "<style scoped>\n",
       "    .dataframe tbody tr th:only-of-type {\n",
       "        vertical-align: middle;\n",
       "    }\n",
       "\n",
       "    .dataframe tbody tr th {\n",
       "        vertical-align: top;\n",
       "    }\n",
       "\n",
       "    .dataframe thead th {\n",
       "        text-align: right;\n",
       "    }\n",
       "</style>\n",
       "<table border=\"1\" class=\"dataframe\">\n",
       "  <thead>\n",
       "    <tr style=\"text-align: right;\">\n",
       "      <th></th>\n",
       "      <th>A</th>\n",
       "      <th>B</th>\n",
       "      <th>C</th>\n",
       "      <th>D</th>\n",
       "      <th>E</th>\n",
       "    </tr>\n",
       "  </thead>\n",
       "  <tbody>\n",
       "    <tr>\n",
       "      <th>A</th>\n",
       "      <td>0</td>\n",
       "      <td>1</td>\n",
       "      <td>2</td>\n",
       "      <td>2</td>\n",
       "      <td>2</td>\n",
       "    </tr>\n",
       "    <tr>\n",
       "      <th>B</th>\n",
       "      <td>2</td>\n",
       "      <td>0</td>\n",
       "      <td>2</td>\n",
       "      <td>3</td>\n",
       "      <td>3</td>\n",
       "    </tr>\n",
       "    <tr>\n",
       "      <th>C</th>\n",
       "      <td>1</td>\n",
       "      <td>1</td>\n",
       "      <td>0</td>\n",
       "      <td>2</td>\n",
       "      <td>2</td>\n",
       "    </tr>\n",
       "    <tr>\n",
       "      <th>D</th>\n",
       "      <td>1</td>\n",
       "      <td>0</td>\n",
       "      <td>1</td>\n",
       "      <td>0</td>\n",
       "      <td>3</td>\n",
       "    </tr>\n",
       "    <tr>\n",
       "      <th>E</th>\n",
       "      <td>1</td>\n",
       "      <td>0</td>\n",
       "      <td>1</td>\n",
       "      <td>0</td>\n",
       "      <td>0</td>\n",
       "    </tr>\n",
       "  </tbody>\n",
       "</table>\n",
       "</div>"
      ],
      "text/plain": [
       "   A  B  C  D  E\n",
       "A  0  1  2  2  2\n",
       "B  2  0  2  3  3\n",
       "C  1  1  0  2  2\n",
       "D  1  0  1  0  3\n",
       "E  1  0  1  0  0"
      ]
     },
     "execution_count": 1,
     "metadata": {},
     "output_type": "execute_result"
    }
   ],
   "source": [
    "#creating a dataframe for the competition  (zero on the diagonal, since the model can't compete with itself)\n",
    "import pandas as pd\n",
    "data = {\n",
    "    'A': [0, 2, 1, 1, 1],\n",
    "    'B': [1, 0, 1, 0, 0],\n",
    "    'C': [2, 2, 0, 1, 1],\n",
    "    'D': [2, 3, 2, 0, 0],\n",
    "    'E': [2, 3, 2, 3, 0]\n",
    "}\n",
    "\n",
    "# Create the DataFrame\n",
    "df = pd.DataFrame(data, index=['A', 'B', 'C', 'D', 'E'])\n",
    "\n",
    "df\n"
   ]
  },
  {
   "cell_type": "markdown",
   "id": "b8f6f467-020b-43ef-b1a9-67ee01940b66",
   "metadata": {},
   "source": [
    "### Using the Closed form formula (equation 2): MLE and Iteration"
   ]
  },
  {
   "cell_type": "code",
   "execution_count": 2,
   "id": "71250df4-db92-41f2-962b-3070ee02914f",
   "metadata": {},
   "outputs": [],
   "source": [
    "import numpy as np\n",
    "\n",
    "def PL_MLE(df, p=None, max_iter=10):\n",
    "    \"\"\"\n",
    "    A function that takes a dataframe of competition between items as input and\n",
    "    returns their estimated worth (numeric) using immediate Plackett-Luce Model.\n",
    "    \"\"\"\n",
    "    import numpy as np\n",
    "\n",
    "    # Initialize worth values to 1 if not provided\n",
    "    if p is None:\n",
    "        p = np.ones(len(df)) \n",
    "    labels = df.columns\n",
    "    \n",
    "    for iteration in range(max_iter):\n",
    "        # Perform updates\n",
    "        for i in range(len(p)):\n",
    "            numerator = 0.0\n",
    "            denominator = 0.0\n",
    "\n",
    "            for j in range(len(p)):\n",
    "                if i != j:\n",
    "                    w_ij = df.iloc[i, j]\n",
    "                    w_ji = df.iloc[j, i]\n",
    "                    numerator += w_ij * p[j] / (p[i] + p[j])\n",
    "                    denominator += w_ji / (p[i] + p[j])\n",
    "\n",
    "            # Avoid zero division\n",
    "            p[i] = numerator / denominator if denominator != 0 else 0.0\n",
    "\n",
    "        # Normalize p to keep numerical stability\n",
    "        norm = np.prod(p) ** (1 / len(p))\n",
    "        p = p / norm\n",
    "\n",
    "        result_dict = {label: float(value) for label, value in zip(labels, p)}\n",
    "        print(f\"Iteration {iteration + 1}: {result_dict}\")\n",
    "\n",
    "    return result_dict"
   ]
  },
  {
   "cell_type": "code",
   "execution_count": 3,
   "id": "5a9e5fc1-5955-4f9f-81ae-814a60c800e6",
   "metadata": {},
   "outputs": [
    {
     "name": "stdout",
     "output_type": "stream",
     "text": [
      "Iteration 1: {'A': 0.9789135975817568, 'B': 3.9410807175369427, 'C': 1.1243671458855395, 'D': 0.9198843882773917, 'E': 0.25061029850234806}\n",
      "Iteration 2: {'A': 1.3436714263825265, 'B': 4.163513214084, 'C': 1.032101669486377, 'D': 0.700573624709735, 'E': 0.24721265983589236}\n",
      "Iteration 3: {'A': 1.3793839168977824, 'B': 4.012184771029157, 'C': 0.9919037613920447, 'D': 0.7309492578312271, 'E': 0.24921670530380868}\n",
      "Iteration 4: {'A': 1.3733031458225664, 'B': 4.008465828428561, 'C': 1.0008872024886897, 'D': 0.7280364539715035, 'E': 0.24929704886800652}\n",
      "Iteration 5: {'A': 1.3728967015460145, 'B': 4.012235336544417, 'C': 0.9999237024435776, 'D': 0.728360793248826, 'E': 0.2492655821322054}\n",
      "Iteration 6: {'A': 1.37304210626391, 'B': 4.011695036352832, 'C': 1.0000092536369305, 'D': 0.7283107242804916, 'E': 0.24926856266989697}\n",
      "Iteration 7: {'A': 1.3730262177830639, 'B': 4.011743594684899, 'C': 0.9999984268701013, 'D': 0.7283186409030359, 'E': 0.2492684192471034}\n",
      "Iteration 8: {'A': 1.3730273710494825, 'B': 4.011738862306026, 'C': 1.000000247868349, 'D': 0.7283175249163886, 'E': 0.24926843195164078}\n",
      "Iteration 9: {'A': 1.3730272489080768, 'B': 4.011739595895441, 'C': 0.9999999661958466, 'D': 0.7283176718992943, 'E': 0.24926842845140493}\n",
      "Iteration 10: {'A': 1.3730272718741572, 'B': 4.011739472790178, 'C': 1.0000000043731134, 'D': 0.7283176523264094, 'E': 0.24926842911358402}\n"
     ]
    },
    {
     "data": {
      "text/plain": [
       "{'A': 1.3730272718741572,\n",
       " 'B': 4.011739472790178,\n",
       " 'C': 1.0000000043731134,\n",
       " 'D': 0.7283176523264094,\n",
       " 'E': 0.24926842911358402}"
      ]
     },
     "execution_count": 3,
     "metadata": {},
     "output_type": "execute_result"
    }
   ],
   "source": [
    "PL_MLE(df)"
   ]
  },
  {
   "cell_type": "markdown",
   "id": "79d6571c-488b-4d8c-8b1a-5d8412f0ab61",
   "metadata": {},
   "source": [
    "### Using Gradient Ascent with Pytorch (From Equation 1)"
   ]
  },
  {
   "cell_type": "code",
   "execution_count": 4,
   "id": "18b0b42f-883c-48e1-9abb-45cbf3c687d1",
   "metadata": {},
   "outputs": [],
   "source": [
    "import torch\n",
    "def PL_Torch(df, lr=0.01, max_iter=100):\n",
    "    \"\"\"\n",
    "    A function that takes a dataframe of competition between items as input and\n",
    "    returns their estimated worth (numeric) using immediate Plackett-Luce Model.\n",
    "    \"\"\"\n",
    "    n = len(df)\n",
    "    # Initialize p values as positive parameters (requires_grad=True)\n",
    "    p = torch.ones(n, requires_grad=True, dtype=torch.float64)\n",
    "\n",
    "    # Optimizer — gradient ascent (minimize negative log-likelihood)\n",
    "    optimizer = torch.optim.Adam([p], lr=lr)\n",
    "\n",
    "    for iteration in range(max_iter):\n",
    "        optimizer.zero_grad()\n",
    "\n",
    "        # Compute log-likelihood\n",
    "        log_likelihood = 0.0\n",
    "        for i in range(n):\n",
    "            for j in range(n):\n",
    "                if i != j:\n",
    "                    w_ij = df.iloc[i, j]\n",
    "                    log_likelihood += w_ij * (torch.log(p[i]) - torch.log(p[i] + p[j]))\n",
    "\n",
    "        # Negative log-likelihood for minimization\n",
    "        loss = -log_likelihood\n",
    "        loss.backward()\n",
    "        optimizer.step()\n",
    "\n",
    "        # Normalize p after each step for numerical stability\n",
    "        with torch.no_grad():\n",
    "            p /= torch.prod(p).pow(1.0 / n)\n",
    "\n",
    "        if (iteration + 1) % 10 == 0 or iteration == 0:\n",
    "            print(f\"Iteration {iteration+1}: p = {p.detach().numpy()}\")\n",
    "\n",
    "    # Return final worth estimates as a dict\n",
    "    result_dict = {label: float(value) for label, value in zip(df.columns, p.detach().numpy())}\n",
    "    return result_dict\n"
   ]
  },
  {
   "cell_type": "code",
   "execution_count": 5,
   "id": "ba043b93-386c-4fd5-aa59-9c2a50b2916c",
   "metadata": {},
   "outputs": [
    {
     "name": "stdout",
     "output_type": "stream",
     "text": [
      "Iteration 1: p = [1.07210442 1.07210442 1.00196675 0.93182908 0.93182908]\n",
      "Iteration 10: p = [1.66856514 1.94759058 0.99111579 0.753838   0.41186676]\n",
      "Iteration 20: p = [1.94051966 3.29533106 0.99305176 0.80485716 0.19565557]\n",
      "Iteration 30: p = [1.31475204 3.39759888 1.02985761 0.70754567 0.30722205]\n",
      "Iteration 40: p = [1.3137588  3.91685327 1.00937849 0.82072326 0.23458286]\n",
      "Iteration 50: p = [1.44573008 4.21134375 0.97895317 0.66336754 0.2529158 ]\n",
      "Iteration 60: p = [1.32158181 4.04060069 1.00658226 0.76083241 0.24452414]\n",
      "Iteration 70: p = [1.37707522 4.01537989 1.00275751 0.71283668 0.25300537]\n",
      "Iteration 80: p = [1.3847457  3.99675214 1.00165981 0.73240252 0.24629335]\n",
      "Iteration 90: p = [1.36644506 3.98157507 0.9996319  0.73054349 0.25169045]\n",
      "Iteration 100: p = [1.38042063 4.01855352 0.9985889  0.72604468 0.2486387 ]\n"
     ]
    },
    {
     "data": {
      "text/plain": [
       "{'A': 1.3804206281045805,\n",
       " 'B': 4.018553515504488,\n",
       " 'C': 0.998588895177912,\n",
       " 'D': 0.7260446816350722,\n",
       " 'E': 0.24863869780215966}"
      ]
     },
     "execution_count": 5,
     "metadata": {},
     "output_type": "execute_result"
    }
   ],
   "source": [
    "#PL_Torch(df)  #different from the obtained answer but with some changes in lr, we obtained the same answer\n",
    "PL_Torch(df, lr = 0.07)"
   ]
  },
  {
   "cell_type": "markdown",
   "id": "25286d53-7d9a-4699-8217-d16668ef7949",
   "metadata": {},
   "source": [
    "### Reference \n",
    "For more on efficient methods for computing rankings from pairwise comparisons:\n",
    "\n",
    "**Efficient Computation of Rankings from Pairwise Comparisons**  \n",
    "*M. E. J. Newman; Journal of Machine Learning Research, 2023*  \n",
    "[See paper](https://jmlr.org/papers/volume24/22-1086/22-1086.pdf)\n",
    "\n",
    "\n",
    "**For Quick Overview: Wikipedia: Bradley–Terry_model**  \n",
    "[See wikipedia](https://en.wikipedia.org/wiki/Bradley%E2%80%93Terry_model)\n"
   ]
  },
  {
   "cell_type": "code",
   "execution_count": null,
   "id": "52343b5c-fe34-45dd-9f77-01cefc6e3792",
   "metadata": {},
   "outputs": [],
   "source": []
  }
 ],
 "metadata": {
  "kernelspec": {
   "display_name": "Python 3 (ipykernel)",
   "language": "python",
   "name": "python3"
  },
  "language_info": {
   "codemirror_mode": {
    "name": "ipython",
    "version": 3
   },
   "file_extension": ".py",
   "mimetype": "text/x-python",
   "name": "python",
   "nbconvert_exporter": "python",
   "pygments_lexer": "ipython3",
   "version": "3.12.9"
  }
 },
 "nbformat": 4,
 "nbformat_minor": 5
}
